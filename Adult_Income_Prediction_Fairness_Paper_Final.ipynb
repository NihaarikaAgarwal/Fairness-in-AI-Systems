{
  "nbformat": 4,
  "nbformat_minor": 0,
  "metadata": {
    "colab": {
      "provenance": [],
      "include_colab_link": true
    },
    "kernelspec": {
      "name": "python3",
      "display_name": "Python 3"
    },
    "language_info": {
      "name": "python"
    }
  },
  "cells": [
    {
      "cell_type": "markdown",
      "metadata": {
        "id": "view-in-github",
        "colab_type": "text"
      },
      "source": [
        "<a href=\"https://colab.research.google.com/github/NihaarikaAgarwal/Fairness-in-AI-Systems/blob/main/Adult_Income_Prediction_Fairness_Paper_Final.ipynb\" target=\"_parent\"><img src=\"https://colab.research.google.com/assets/colab-badge.svg\" alt=\"Open In Colab\"/></a>"
      ]
    },
    {
      "cell_type": "code",
      "metadata": {
        "id": "gWr-8goO0FoP"
      },
      "source": [
        "import numpy as np\n",
        "import pandas as pd\n",
        "import matplotlib.pyplot as plt\n",
        "import seaborn as sns\n",
        "%matplotlib inline\n",
        "sns.set(style='darkgrid')\n",
        "sns.set_palette('deep')\n",
        "\n",
        "np.random.seed(7)\n",
        "\n",
        "from sklearn.model_selection import train_test_split\n",
        "from sklearn.preprocessing import MinMaxScaler, StandardScaler\n",
        "from sklearn.tree import DecisionTreeClassifier\n",
        "from sklearn.ensemble import RandomForestClassifier\n",
        "from sklearn.metrics import confusion_matrix, classification_report\n",
        "from sklearn.metrics import roc_auc_score\n",
        "from sklearn.metrics import accuracy_score\n",
        "\n",
        "from imblearn.over_sampling import SMOTENC\n",
        "from imblearn.under_sampling import RandomUnderSampler\n",
        "from imblearn.pipeline import Pipeline\n",
        "\n",
        "from collections import Counter"
      ],
      "execution_count": null,
      "outputs": []
    },
    {
      "cell_type": "code",
      "source": [],
      "metadata": {
        "id": "qx4xdkuunk36"
      },
      "execution_count": null,
      "outputs": []
    },
    {
      "cell_type": "code",
      "metadata": {
        "colab": {
          "base_uri": "https://localhost:8080/",
          "height": 306
        },
        "id": "q1v_yhbd0sVV",
        "outputId": "eb97bd7e-ef6b-49b9-c6e5-6a4b5f2d4598"
      },
      "source": [
        "df = pd.read_csv('adult.csv')\n",
        "df.head()"
      ],
      "execution_count": null,
      "outputs": [
        {
          "output_type": "execute_result",
          "data": {
            "text/html": [
              "<div>\n",
              "<style scoped>\n",
              "    .dataframe tbody tr th:only-of-type {\n",
              "        vertical-align: middle;\n",
              "    }\n",
              "\n",
              "    .dataframe tbody tr th {\n",
              "        vertical-align: top;\n",
              "    }\n",
              "\n",
              "    .dataframe thead th {\n",
              "        text-align: right;\n",
              "    }\n",
              "</style>\n",
              "<table border=\"1\" class=\"dataframe\">\n",
              "  <thead>\n",
              "    <tr style=\"text-align: right;\">\n",
              "      <th></th>\n",
              "      <th>age</th>\n",
              "      <th>workclass</th>\n",
              "      <th>fnlwgt</th>\n",
              "      <th>education</th>\n",
              "      <th>educational-num</th>\n",
              "      <th>marital-status</th>\n",
              "      <th>occupation</th>\n",
              "      <th>relationship</th>\n",
              "      <th>race</th>\n",
              "      <th>gender</th>\n",
              "      <th>capital-gain</th>\n",
              "      <th>capital-loss</th>\n",
              "      <th>hours-per-week</th>\n",
              "      <th>native-country</th>\n",
              "      <th>income</th>\n",
              "    </tr>\n",
              "  </thead>\n",
              "  <tbody>\n",
              "    <tr>\n",
              "      <th>0</th>\n",
              "      <td>25</td>\n",
              "      <td>Private</td>\n",
              "      <td>226802</td>\n",
              "      <td>11th</td>\n",
              "      <td>7</td>\n",
              "      <td>Never-married</td>\n",
              "      <td>Machine-op-inspct</td>\n",
              "      <td>Own-child</td>\n",
              "      <td>Black</td>\n",
              "      <td>Male</td>\n",
              "      <td>0</td>\n",
              "      <td>0</td>\n",
              "      <td>40</td>\n",
              "      <td>United-States</td>\n",
              "      <td>&lt;=50K</td>\n",
              "    </tr>\n",
              "    <tr>\n",
              "      <th>1</th>\n",
              "      <td>44</td>\n",
              "      <td>Private</td>\n",
              "      <td>160323</td>\n",
              "      <td>Some-college</td>\n",
              "      <td>10</td>\n",
              "      <td>Married-civ-spouse</td>\n",
              "      <td>Machine-op-inspct</td>\n",
              "      <td>Husband</td>\n",
              "      <td>Black</td>\n",
              "      <td>Male</td>\n",
              "      <td>7688</td>\n",
              "      <td>0</td>\n",
              "      <td>40</td>\n",
              "      <td>United-States</td>\n",
              "      <td>&gt;50K</td>\n",
              "    </tr>\n",
              "    <tr>\n",
              "      <th>2</th>\n",
              "      <td>29</td>\n",
              "      <td>?</td>\n",
              "      <td>227026</td>\n",
              "      <td>HS-grad</td>\n",
              "      <td>9</td>\n",
              "      <td>Never-married</td>\n",
              "      <td>?</td>\n",
              "      <td>Unmarried</td>\n",
              "      <td>Black</td>\n",
              "      <td>Male</td>\n",
              "      <td>0</td>\n",
              "      <td>0</td>\n",
              "      <td>40</td>\n",
              "      <td>United-States</td>\n",
              "      <td>&lt;=50K</td>\n",
              "    </tr>\n",
              "    <tr>\n",
              "      <th>3</th>\n",
              "      <td>40</td>\n",
              "      <td>Private</td>\n",
              "      <td>85019</td>\n",
              "      <td>Doctorate</td>\n",
              "      <td>16</td>\n",
              "      <td>Married-civ-spouse</td>\n",
              "      <td>Prof-specialty</td>\n",
              "      <td>Husband</td>\n",
              "      <td>Asian-Pac-Islander</td>\n",
              "      <td>Male</td>\n",
              "      <td>0</td>\n",
              "      <td>0</td>\n",
              "      <td>45</td>\n",
              "      <td>?</td>\n",
              "      <td>&gt;50K</td>\n",
              "    </tr>\n",
              "    <tr>\n",
              "      <th>4</th>\n",
              "      <td>34</td>\n",
              "      <td>Private</td>\n",
              "      <td>238588</td>\n",
              "      <td>Some-college</td>\n",
              "      <td>10</td>\n",
              "      <td>Never-married</td>\n",
              "      <td>Other-service</td>\n",
              "      <td>Own-child</td>\n",
              "      <td>Black</td>\n",
              "      <td>Female</td>\n",
              "      <td>0</td>\n",
              "      <td>0</td>\n",
              "      <td>35</td>\n",
              "      <td>United-States</td>\n",
              "      <td>&lt;=50K</td>\n",
              "    </tr>\n",
              "  </tbody>\n",
              "</table>\n",
              "</div>"
            ],
            "text/plain": [
              "   age workclass  fnlwgt  ... hours-per-week  native-country income\n",
              "0   25   Private  226802  ...             40   United-States  <=50K\n",
              "1   44   Private  160323  ...             40   United-States   >50K\n",
              "2   29         ?  227026  ...             40   United-States  <=50K\n",
              "3   40   Private   85019  ...             45               ?   >50K\n",
              "4   34   Private  238588  ...             35   United-States  <=50K\n",
              "\n",
              "[5 rows x 15 columns]"
            ]
          },
          "metadata": {
            "tags": []
          },
          "execution_count": 2
        }
      ]
    },
    {
      "cell_type": "markdown",
      "metadata": {
        "id": "yJqIj3M-N5ne"
      },
      "source": [
        "# Data cleaning\n",
        "\n",
        "\n",
        "1.   Check if there are any null values\n",
        "2.   Check if there are any special characters in the Dtype object columns\n",
        "3.   Drop columns with very few values, scale numerical values where required\n",
        "3.   One-hot encoding categorical features\n",
        "\n"
      ]
    },
    {
      "cell_type": "code",
      "metadata": {
        "colab": {
          "base_uri": "https://localhost:8080/"
        },
        "id": "yoHlAOQh0uq2",
        "outputId": "06f83989-3c6e-4673-fa1d-bebe00bed0ad"
      },
      "source": [
        "df.isnull().sum().sort_index()"
      ],
      "execution_count": null,
      "outputs": [
        {
          "output_type": "execute_result",
          "data": {
            "text/plain": [
              "age                0\n",
              "capital-gain       0\n",
              "capital-loss       0\n",
              "education          0\n",
              "educational-num    0\n",
              "fnlwgt             0\n",
              "gender             0\n",
              "hours-per-week     0\n",
              "income             0\n",
              "marital-status     0\n",
              "native-country     0\n",
              "occupation         0\n",
              "race               0\n",
              "relationship       0\n",
              "workclass          0\n",
              "dtype: int64"
            ]
          },
          "metadata": {
            "tags": []
          },
          "execution_count": 3
        }
      ]
    },
    {
      "cell_type": "code",
      "metadata": {
        "colab": {
          "base_uri": "https://localhost:8080/"
        },
        "id": "X7Sucdqr3ady",
        "outputId": "20879bfe-1faf-4a3c-b451-0fb8a457828b"
      },
      "source": [
        "df.info()"
      ],
      "execution_count": null,
      "outputs": [
        {
          "output_type": "stream",
          "text": [
            "<class 'pandas.core.frame.DataFrame'>\n",
            "RangeIndex: 14715 entries, 0 to 14714\n",
            "Data columns (total 15 columns):\n",
            " #   Column           Non-Null Count  Dtype \n",
            "---  ------           --------------  ----- \n",
            " 0   age              14715 non-null  int64 \n",
            " 1   workclass        14715 non-null  object\n",
            " 2   fnlwgt           14715 non-null  int64 \n",
            " 3   education        14715 non-null  object\n",
            " 4   educational-num  14715 non-null  int64 \n",
            " 5   marital-status   14715 non-null  object\n",
            " 6   occupation       14715 non-null  object\n",
            " 7   relationship     14715 non-null  object\n",
            " 8   race             14715 non-null  object\n",
            " 9   gender           14715 non-null  object\n",
            " 10  capital-gain     14715 non-null  int64 \n",
            " 11  capital-loss     14715 non-null  int64 \n",
            " 12  hours-per-week   14715 non-null  int64 \n",
            " 13  native-country   14715 non-null  object\n",
            " 14  income           14715 non-null  object\n",
            "dtypes: int64(6), object(9)\n",
            "memory usage: 1.7+ MB\n"
          ],
          "name": "stdout"
        }
      ]
    },
    {
      "cell_type": "code",
      "metadata": {
        "colab": {
          "base_uri": "https://localhost:8080/"
        },
        "id": "acl9hgzR3dHE",
        "outputId": "76c06d0a-6857-4af9-a300-7acc315a9ac3"
      },
      "source": [
        "categorical_features = df.select_dtypes(include =['object']).axes[1]\n",
        "for col in categorical_features:\n",
        "  print(col, \": \\n\", df[col].unique(), end=\"\\n\\n\")"
      ],
      "execution_count": null,
      "outputs": [
        {
          "output_type": "stream",
          "text": [
            "workclass : \n",
            " ['Private' '?' 'State-gov' 'Federal-gov' 'Local-gov' 'Self-emp-not-inc'\n",
            " 'Self-emp-inc' 'Never-worked' 'Without-pay']\n",
            "\n",
            "education : \n",
            " ['11th' 'Some-college' 'HS-grad' 'Doctorate' '7th-8th' 'Masters'\n",
            " 'Bachelors' 'Assoc-acdm' '1st-4th' 'Assoc-voc' '9th' '5th-6th' '10th'\n",
            " 'Prof-school' 'Preschool' '12th']\n",
            "\n",
            "marital-status : \n",
            " ['Never-married' 'Married-civ-spouse' 'Separated' 'Divorced'\n",
            " 'Married-spouse-absent' 'Widowed' 'Married-AF-spouse']\n",
            "\n",
            "occupation : \n",
            " ['Machine-op-inspct' '?' 'Prof-specialty' 'Other-service'\n",
            " 'Exec-managerial' 'Priv-house-serv' 'Handlers-cleaners' 'Craft-repair'\n",
            " 'Adm-clerical' 'Transport-moving' 'Sales' 'Farming-fishing'\n",
            " 'Tech-support' 'Protective-serv' 'Armed-Forces']\n",
            "\n",
            "relationship : \n",
            " ['Own-child' 'Husband' 'Unmarried' 'Not-in-family' 'Wife' 'Other-relative']\n",
            "\n",
            "race : \n",
            " ['Black' 'Asian-Pac-Islander' 'Other' 'Amer-Indian-Eskimo' 'White']\n",
            "\n",
            "gender : \n",
            " ['Male' 'Female']\n",
            "\n",
            "native-country : \n",
            " ['United-States' '?' 'Dominican-Republic' 'Germany' 'Philippines'\n",
            " 'Thailand' 'Haiti' 'Vietnam' 'South' 'Japan' 'India' 'Cambodia' 'Laos'\n",
            " 'Columbia' 'England' 'Mexico' 'Taiwan' 'Cuba' 'Puerto-Rico' 'China'\n",
            " 'Jamaica' 'Ecuador' 'Nicaragua' 'El-Salvador'\n",
            " 'Outlying-US(Guam-USVI-etc)' 'Guatemala' 'Poland' 'Trinadad&Tobago'\n",
            " 'Hong' 'Peru' 'Portugal' 'France' 'Honduras' 'Iran' 'Scotland' 'Canada'\n",
            " 'Greece' 'Ireland' 'Italy' 'Yugoslavia' 'Hungary']\n",
            "\n",
            "income : \n",
            " ['<=50K' '>50K']\n",
            "\n"
          ],
          "name": "stdout"
        }
      ]
    },
    {
      "cell_type": "code",
      "metadata": {
        "id": "vsh_YmPD4qYD"
      },
      "source": [
        "df['workclass'] = df['workclass'].replace({'?':'Other'})\n",
        "df['occupation'] = df['occupation'].replace({'?':'Other'})\n",
        "df['native-country'] = df['native-country'].replace({'?':'Other'})\n",
        "df['income']=df['income'].map({'<=50K': 0, '>50K': 1})"
      ],
      "execution_count": null,
      "outputs": []
    },
    {
      "cell_type": "code",
      "metadata": {
        "colab": {
          "base_uri": "https://localhost:8080/",
          "height": 297
        },
        "id": "7X2hB8Xj5erq",
        "outputId": "16f1bfeb-b45b-4e5c-e8e1-71c443d858f9"
      },
      "source": [
        "df.describe()"
      ],
      "execution_count": null,
      "outputs": [
        {
          "output_type": "execute_result",
          "data": {
            "text/html": [
              "<div>\n",
              "<style scoped>\n",
              "    .dataframe tbody tr th:only-of-type {\n",
              "        vertical-align: middle;\n",
              "    }\n",
              "\n",
              "    .dataframe tbody tr th {\n",
              "        vertical-align: top;\n",
              "    }\n",
              "\n",
              "    .dataframe thead th {\n",
              "        text-align: right;\n",
              "    }\n",
              "</style>\n",
              "<table border=\"1\" class=\"dataframe\">\n",
              "  <thead>\n",
              "    <tr style=\"text-align: right;\">\n",
              "      <th></th>\n",
              "      <th>age</th>\n",
              "      <th>fnlwgt</th>\n",
              "      <th>educational-num</th>\n",
              "      <th>capital-gain</th>\n",
              "      <th>capital-loss</th>\n",
              "      <th>hours-per-week</th>\n",
              "      <th>income</th>\n",
              "    </tr>\n",
              "  </thead>\n",
              "  <tbody>\n",
              "    <tr>\n",
              "      <th>count</th>\n",
              "      <td>14715.000000</td>\n",
              "      <td>1.471500e+04</td>\n",
              "      <td>14715.000000</td>\n",
              "      <td>14715.000000</td>\n",
              "      <td>14715.000000</td>\n",
              "      <td>14715.000000</td>\n",
              "      <td>14715.000000</td>\n",
              "    </tr>\n",
              "    <tr>\n",
              "      <th>mean</th>\n",
              "      <td>38.218009</td>\n",
              "      <td>1.954787e+05</td>\n",
              "      <td>9.952633</td>\n",
              "      <td>981.486306</td>\n",
              "      <td>80.453347</td>\n",
              "      <td>39.915392</td>\n",
              "      <td>0.201631</td>\n",
              "    </tr>\n",
              "    <tr>\n",
              "      <th>std</th>\n",
              "      <td>13.388829</td>\n",
              "      <td>1.120910e+05</td>\n",
              "      <td>2.574854</td>\n",
              "      <td>7275.352726</td>\n",
              "      <td>385.898048</td>\n",
              "      <td>11.902639</td>\n",
              "      <td>0.401232</td>\n",
              "    </tr>\n",
              "    <tr>\n",
              "      <th>min</th>\n",
              "      <td>17.000000</td>\n",
              "      <td>1.228500e+04</td>\n",
              "      <td>1.000000</td>\n",
              "      <td>0.000000</td>\n",
              "      <td>0.000000</td>\n",
              "      <td>1.000000</td>\n",
              "      <td>0.000000</td>\n",
              "    </tr>\n",
              "    <tr>\n",
              "      <th>25%</th>\n",
              "      <td>28.000000</td>\n",
              "      <td>1.194435e+05</td>\n",
              "      <td>9.000000</td>\n",
              "      <td>0.000000</td>\n",
              "      <td>0.000000</td>\n",
              "      <td>40.000000</td>\n",
              "      <td>0.000000</td>\n",
              "    </tr>\n",
              "    <tr>\n",
              "      <th>50%</th>\n",
              "      <td>36.000000</td>\n",
              "      <td>1.805320e+05</td>\n",
              "      <td>10.000000</td>\n",
              "      <td>0.000000</td>\n",
              "      <td>0.000000</td>\n",
              "      <td>40.000000</td>\n",
              "      <td>0.000000</td>\n",
              "    </tr>\n",
              "    <tr>\n",
              "      <th>75%</th>\n",
              "      <td>47.000000</td>\n",
              "      <td>2.471085e+05</td>\n",
              "      <td>12.000000</td>\n",
              "      <td>0.000000</td>\n",
              "      <td>0.000000</td>\n",
              "      <td>40.000000</td>\n",
              "      <td>0.000000</td>\n",
              "    </tr>\n",
              "    <tr>\n",
              "      <th>max</th>\n",
              "      <td>90.000000</td>\n",
              "      <td>1.490400e+06</td>\n",
              "      <td>16.000000</td>\n",
              "      <td>99999.000000</td>\n",
              "      <td>4356.000000</td>\n",
              "      <td>99.000000</td>\n",
              "      <td>1.000000</td>\n",
              "    </tr>\n",
              "  </tbody>\n",
              "</table>\n",
              "</div>"
            ],
            "text/plain": [
              "                age        fnlwgt  ...  hours-per-week        income\n",
              "count  14715.000000  1.471500e+04  ...    14715.000000  14715.000000\n",
              "mean      38.218009  1.954787e+05  ...       39.915392      0.201631\n",
              "std       13.388829  1.120910e+05  ...       11.902639      0.401232\n",
              "min       17.000000  1.228500e+04  ...        1.000000      0.000000\n",
              "25%       28.000000  1.194435e+05  ...       40.000000      0.000000\n",
              "50%       36.000000  1.805320e+05  ...       40.000000      0.000000\n",
              "75%       47.000000  2.471085e+05  ...       40.000000      0.000000\n",
              "max       90.000000  1.490400e+06  ...       99.000000      1.000000\n",
              "\n",
              "[8 rows x 7 columns]"
            ]
          },
          "metadata": {
            "tags": []
          },
          "execution_count": 7
        }
      ]
    },
    {
      "cell_type": "code",
      "metadata": {
        "id": "VydHrxOc8GBy"
      },
      "source": [
        "# 75% values are 0\n",
        "df.drop(['capital-gain', 'capital-loss', 'fnlwgt'], axis=1 ,inplace = True)\n",
        "# df['fnlwgt'] = df['fnlwgt'].apply(lambda x: np.log1p(x))"
      ],
      "execution_count": null,
      "outputs": []
    },
    {
      "cell_type": "code",
      "metadata": {
        "colab": {
          "base_uri": "https://localhost:8080/"
        },
        "id": "DTbqIQn58aYv",
        "outputId": "59752410-8f83-43f0-bad3-24cd41e808a3"
      },
      "source": [
        "df['educational-num'].unique()"
      ],
      "execution_count": null,
      "outputs": [
        {
          "output_type": "execute_result",
          "data": {
            "text/plain": [
              "array([ 7, 10,  9, 16,  4, 14, 13, 12,  2, 11,  5,  3,  6, 15,  1,  8])"
            ]
          },
          "metadata": {
            "tags": []
          },
          "execution_count": 9
        }
      ]
    },
    {
      "cell_type": "code",
      "metadata": {
        "id": "rC8G7XMI8moK"
      },
      "source": [
        "# similar to education column\n",
        "df.drop('educational-num', axis=1 ,inplace = True)"
      ],
      "execution_count": null,
      "outputs": []
    },
    {
      "cell_type": "code",
      "metadata": {
        "colab": {
          "base_uri": "https://localhost:8080/"
        },
        "id": "Beoq-xe38uiR",
        "outputId": "41ff48e6-c19c-4519-d971-1c433e651d6f"
      },
      "source": [
        "df.info()"
      ],
      "execution_count": null,
      "outputs": [
        {
          "output_type": "stream",
          "text": [
            "<class 'pandas.core.frame.DataFrame'>\n",
            "RangeIndex: 14715 entries, 0 to 14714\n",
            "Data columns (total 11 columns):\n",
            " #   Column          Non-Null Count  Dtype \n",
            "---  ------          --------------  ----- \n",
            " 0   age             14715 non-null  int64 \n",
            " 1   workclass       14715 non-null  object\n",
            " 2   education       14715 non-null  object\n",
            " 3   marital-status  14715 non-null  object\n",
            " 4   occupation      14715 non-null  object\n",
            " 5   relationship    14715 non-null  object\n",
            " 6   race            14715 non-null  object\n",
            " 7   gender          14715 non-null  object\n",
            " 8   hours-per-week  14715 non-null  int64 \n",
            " 9   native-country  14715 non-null  object\n",
            " 10  income          14715 non-null  int64 \n",
            "dtypes: int64(3), object(8)\n",
            "memory usage: 1.2+ MB\n"
          ],
          "name": "stdout"
        }
      ]
    },
    {
      "cell_type": "code",
      "metadata": {
        "colab": {
          "base_uri": "https://localhost:8080/"
        },
        "id": "V-Q9_PYK8zvb",
        "outputId": "cf10c4be-28f2-4f20-cb76-153597892fe6"
      },
      "source": [
        "categorical_features = df.select_dtypes(include = ['object']).axes[1]\n",
        "numerical_features = list(set(df.columns) - set(categorical_features))\n",
        "\n",
        "for col in categorical_features:\n",
        "    df = pd.concat([df , pd.get_dummies(df[col], prefix = col , prefix_sep = ':')] , axis = 1)\n",
        "df.drop(categorical_features , axis = 1 , inplace = True)\n",
        "categorical_features = list(set(df.columns) - set(numerical_features))\n",
        "df.info()"
      ],
      "execution_count": null,
      "outputs": [
        {
          "output_type": "stream",
          "text": [
            "<class 'pandas.core.frame.DataFrame'>\n",
            "RangeIndex: 14715 entries, 0 to 14714\n",
            "Columns: 104 entries, age to native-country:Yugoslavia\n",
            "dtypes: int64(3), uint8(101)\n",
            "memory usage: 1.8 MB\n"
          ],
          "name": "stdout"
        }
      ]
    },
    {
      "cell_type": "markdown",
      "metadata": {
        "id": "BDdu3malbcJC"
      },
      "source": [
        "# Train-test split"
      ]
    },
    {
      "cell_type": "code",
      "metadata": {
        "id": "XEuMEN04bj-T"
      },
      "source": [
        "df_train, df_test = train_test_split(df, test_size=0.25, random_state=69, shuffle=True)"
      ],
      "execution_count": null,
      "outputs": []
    },
    {
      "cell_type": "markdown",
      "metadata": {
        "id": "3PUzJ13gO9_F"
      },
      "source": [
        "# Bias detection and mitigation\n",
        "\n"
      ]
    },
    {
      "cell_type": "code",
      "metadata": {
        "id": "QEox0b6KNv87"
      },
      "source": [
        "protected_feature = 'gender'\n",
        "privilege_class = 'Male'\n",
        "output_feature = 'income'"
      ],
      "execution_count": null,
      "outputs": []
    },
    {
      "cell_type": "code",
      "metadata": {
        "id": "ovJyvEM1NwAw"
      },
      "source": [
        "def calculate_bias_metrics(df_privilege, df_unprivilege, protected_feature, privilege_class, output_feature):\n",
        "  total_privilege, total_unprivilege = df_privilege.shape[0], df_unprivilege.shape[0]\n",
        "\n",
        "  fav_outcome_privilege, fav_outcome_unprivilege = df_privilege.loc[df_privilege[output_feature] == 1].shape[0], df_unprivilege.loc[df_unprivilege[output_feature] == 1].shape[0]\n",
        "\n",
        "  prob_fav_outcome_privilege = fav_outcome_privilege/total_privilege\n",
        "  prob_fav_outcome_unprivilege = fav_outcome_unprivilege/total_unprivilege\n",
        "\n",
        "  print(\"Probability of fav outcome for privelege class: \", prob_fav_outcome_privilege)\n",
        "\n",
        "  print(\"Probability of fav outcome for unprivelege class: \", prob_fav_outcome_unprivilege)\n",
        "\n",
        "  print(\"Statistical parity difference: \", prob_fav_outcome_unprivilege - prob_fav_outcome_privilege)\n",
        "\n",
        "  print(\"Disparate impact: \", prob_fav_outcome_unprivilege / prob_fav_outcome_privilege)\n",
        "\n",
        "  print(\"Euclidean distance: \", np.sqrt(np.mean([(a-b)*(a-b) for a, b in zip(df_privilege.mean(), df_unprivilege.mean())])))\n",
        "\n",
        "  print(\"Manhattan distance: \", np.mean([np.abs(a-b) for a, b in zip(df_privilege.mean(), df_unprivilege.mean())]))\n"
      ],
      "execution_count": null,
      "outputs": []
    },
    {
      "cell_type": "code",
      "metadata": {
        "colab": {
          "base_uri": "https://localhost:8080/"
        },
        "id": "x-sql_wuNwIS",
        "outputId": "6fe2caa2-2362-48a8-9bf9-155d87bf80b1"
      },
      "source": [
        "df_train_privilege = df_train.loc[df_train[protected_feature + ':' + privilege_class] == 1]\n",
        "df_train_unprivilege = df_train.loc[df_train[protected_feature + ':' + privilege_class] == 0]\n",
        "\n",
        "calculate_bias_metrics(df_train_privilege.copy(deep=True), df_train_unprivilege.copy(deep=True), protected_feature, privilege_class, output_feature)"
      ],
      "execution_count": null,
      "outputs": [
        {
          "output_type": "stream",
          "text": [
            "Probability of fav outcome for privelege class:  0.26364166909833675\n",
            "Probability of fav outcome for unprivelege class:  0.09110473457675754\n",
            "Statistical parity difference:  -0.1725369345215792\n",
            "Disparate impact:  0.34556272871560384\n",
            "Euclidean distance:  0.5578921465794333\n",
            "Manhattan distance:  0.11825568281644469\n"
          ],
          "name": "stdout"
        }
      ]
    },
    {
      "cell_type": "code",
      "metadata": {
        "colab": {
          "base_uri": "https://localhost:8080/"
        },
        "id": "mcorA0CHQgmx",
        "outputId": "789da0bd-4f06-4b33-83d2-953d21d6c803"
      },
      "source": [
        "X_train = df_train.drop(output_feature, axis=1)\n",
        "y_train = df_train[output_feature]\n",
        "\n",
        "X_test = df_test.drop(output_feature, axis=1)\n",
        "y_test = df_test[output_feature]\n",
        "\n",
        "scaler = MinMaxScaler()\n",
        "X_train = scaler.fit_transform(X_train)\n",
        "\n",
        "classifier = RandomForestClassifier()\n",
        "classifier.fit(X_train, y_train)\n",
        "\n",
        "X_test = scaler.transform(X_test)\n",
        "y_pred = classifier.predict(X_test)\n",
        "print(accuracy_score(y_test , y_pred))"
      ],
      "execution_count": null,
      "outputs": [
        {
          "output_type": "stream",
          "text": [
            "0.8350095134547432\n"
          ],
          "name": "stdout"
        }
      ]
    },
    {
      "cell_type": "code",
      "metadata": {
        "id": "R7lxmpt0T9Td"
      },
      "source": [
        "df_test_previlege = df_test.loc[df_test[protected_feature + ':' + privilege_class] == 1]\n",
        "df_test_unprevilege = df_test.loc[df_test[protected_feature + ':' + privilege_class] == 0]\n",
        "\n",
        "X_test_previlege = df_test_previlege.drop(output_feature, axis=1)\n",
        "y_test_previlege = df_test_previlege[output_feature]\n",
        "X_test_unprevilege = df_test_unprevilege.drop(output_feature, axis=1)\n",
        "y_test_unprevilege = df_test_unprevilege[output_feature]"
      ],
      "execution_count": null,
      "outputs": []
    },
    {
      "cell_type": "code",
      "metadata": {
        "colab": {
          "base_uri": "https://localhost:8080/"
        },
        "id": "o4ENqyl2UNvN",
        "outputId": "11ea09dd-7c09-4024-b2e7-ec1cd7bcadf9"
      },
      "source": [
        "X_test_previlege = scaler.transform(X_test_previlege)\n",
        "y_pred_previlege = classifier.predict(X_test_previlege)\n",
        "print(accuracy_score(y_test_previlege , y_pred_previlege))"
      ],
      "execution_count": null,
      "outputs": [
        {
          "output_type": "stream",
          "text": [
            "0.7897503285151117\n"
          ],
          "name": "stdout"
        }
      ]
    },
    {
      "cell_type": "code",
      "metadata": {
        "colab": {
          "base_uri": "https://localhost:8080/"
        },
        "id": "BUwo3rxhUfp1",
        "outputId": "86ee53f7-dd3f-4974-85c3-e0574b5b64cc"
      },
      "source": [
        "X_test_unprevilege = scaler.transform(X_test_unprevilege)\n",
        "y_pred_unprevilege = classifier.predict(X_test_unprevilege)\n",
        "print(accuracy_score(y_test_unprevilege , y_pred_unprevilege))"
      ],
      "execution_count": null,
      "outputs": [
        {
          "output_type": "stream",
          "text": [
            "0.9090257879656161\n"
          ],
          "name": "stdout"
        }
      ]
    },
    {
      "cell_type": "code",
      "metadata": {
        "id": "BxeUVa2FjUlv"
      },
      "source": [
        "def bias_mitigation(dataset, categorical_features, output_feature, ratio):\n",
        "  dataset_X = dataset.drop(output_feature, axis=1)\n",
        "  dataset_Y = dataset[output_feature]\n",
        "\n",
        "  print(dataset_Y.value_counts(normalize=True))\n",
        "\n",
        "  cat_col_indices = [dataset_X.columns.get_loc(col) for col in categorical_features]\n",
        "  cat_col_indices.sort()\n",
        "\n",
        "  # pipeline for oversampling and undersampling\n",
        "  over_sampling = SMOTENC(categorical_features=cat_col_indices, sampling_strategy = ratio - 0.1)\n",
        "  under_sampling = RandomUnderSampler(sampling_strategy = ratio)\n",
        "  steps = [('o', over_sampling), ('u', under_sampling)]\n",
        "  # steps = [('u', under_sampling)]\n",
        "  pipeline = Pipeline(steps=steps)\n",
        "\n",
        "  X, y = pipeline.fit_resample(dataset_X, dataset_Y)\n",
        "\n",
        "  print(pd.DataFrame(y).value_counts(normalize=True))\n",
        "\n",
        "  X = pd.DataFrame(X)\n",
        "  y = pd.DataFrame(y, columns=[output_feature])\n",
        "\n",
        "  return pd.concat([X, y], axis = 1)"
      ],
      "execution_count": null,
      "outputs": []
    },
    {
      "cell_type": "code",
      "metadata": {
        "colab": {
          "base_uri": "https://localhost:8080/"
        },
        "id": "1iPx-gsEkxWw",
        "outputId": "f197da7c-71cc-422d-8f2b-7d9e8d70aa85"
      },
      "source": [
        "df_train_privilege_resampled = bias_mitigation(df_train_privilege.copy(deep=True), categorical_features, output_feature, 0.8)\n",
        "df_train_unprivilege_resampled = bias_mitigation(df_train_unprivilege.copy(deep=True), categorical_features, output_feature, 0.8)"
      ],
      "execution_count": null,
      "outputs": [
        {
          "output_type": "stream",
          "text": [
            "0    0.696692\n",
            "1    0.303308\n",
            "Name: income, dtype: float64\n"
          ],
          "name": "stdout"
        },
        {
          "output_type": "stream",
          "text": [
            "/usr/local/lib/python3.7/dist-packages/sklearn/utils/deprecation.py:87: FutureWarning: Function safe_indexing is deprecated; safe_indexing is deprecated in version 0.22 and will be removed in version 0.24.\n",
            "  warnings.warn(msg, category=FutureWarning)\n",
            "/usr/local/lib/python3.7/dist-packages/sklearn/utils/deprecation.py:87: FutureWarning: Function safe_indexing is deprecated; safe_indexing is deprecated in version 0.22 and will be removed in version 0.24.\n",
            "  warnings.warn(msg, category=FutureWarning)\n",
            "/usr/local/lib/python3.7/dist-packages/sklearn/utils/deprecation.py:87: FutureWarning: Function safe_indexing is deprecated; safe_indexing is deprecated in version 0.22 and will be removed in version 0.24.\n",
            "  warnings.warn(msg, category=FutureWarning)\n",
            "/usr/local/lib/python3.7/dist-packages/sklearn/utils/deprecation.py:87: FutureWarning: Function safe_indexing is deprecated; safe_indexing is deprecated in version 0.22 and will be removed in version 0.24.\n",
            "  warnings.warn(msg, category=FutureWarning)\n",
            "/usr/local/lib/python3.7/dist-packages/sklearn/utils/deprecation.py:87: FutureWarning: Function safe_indexing is deprecated; safe_indexing is deprecated in version 0.22 and will be removed in version 0.24.\n",
            "  warnings.warn(msg, category=FutureWarning)\n"
          ],
          "name": "stderr"
        },
        {
          "output_type": "stream",
          "text": [
            "0    0.555547\n",
            "1    0.444453\n",
            "dtype: float64\n",
            "0    0.891071\n",
            "1    0.108929\n",
            "Name: income, dtype: float64\n",
            "0    0.555542\n",
            "1    0.444458\n",
            "dtype: float64\n"
          ],
          "name": "stdout"
        },
        {
          "output_type": "stream",
          "text": [
            "/usr/local/lib/python3.7/dist-packages/sklearn/utils/deprecation.py:87: FutureWarning: Function safe_indexing is deprecated; safe_indexing is deprecated in version 0.22 and will be removed in version 0.24.\n",
            "  warnings.warn(msg, category=FutureWarning)\n"
          ],
          "name": "stderr"
        }
      ]
    },
    {
      "cell_type": "code",
      "metadata": {
        "colab": {
          "base_uri": "https://localhost:8080/"
        },
        "id": "8hs22fdqESF1",
        "outputId": "4acf049e-b725-48ba-f2eb-62700af44c19"
      },
      "source": [
        "calculate_bias_metrics(df_train_privilege_resampled.copy(deep=True), df_train_unprivilege_resampled.copy(deep=True), protected_feature, privilege_class, output_feature)"
      ],
      "execution_count": null,
      "outputs": [
        {
          "output_type": "stream",
          "text": [
            "Probability of fav outcome for privelege class:  0.4444527067221892\n",
            "Probability of fav outcome for unprivelege class:  0.4444575124963246\n",
            "Statistical parity difference:  4.80577413541905e-06\n",
            "Disparate impact:  1.0000108127907936\n",
            "Euclidean distance:  0.5436514789320455\n",
            "Manhattan distance:  0.11167270252582885\n"
          ],
          "name": "stdout"
        }
      ]
    },
    {
      "cell_type": "code",
      "metadata": {
        "id": "5gn6znTr52x_"
      },
      "source": [
        "df_train_resampled = pd.concat([df_train_privilege_resampled, df_train_unprivilege_resampled], axis = 0)"
      ],
      "execution_count": null,
      "outputs": []
    },
    {
      "cell_type": "code",
      "metadata": {
        "colab": {
          "base_uri": "https://localhost:8080/"
        },
        "id": "Y_jWcfo59tVK",
        "outputId": "bc40110c-340c-4b54-d6de-b8048e19e424"
      },
      "source": [
        "df_train_resampled[output_feature].value_counts(normalize=True)"
      ],
      "execution_count": null,
      "outputs": [
        {
          "output_type": "execute_result",
          "data": {
            "text/plain": [
              "0    0.555545\n",
              "1    0.444455\n",
              "Name: income, dtype: float64"
            ]
          },
          "metadata": {
            "tags": []
          },
          "execution_count": 21
        }
      ]
    },
    {
      "cell_type": "markdown",
      "metadata": {
        "id": "7MCSGJXRPKO6"
      },
      "source": [
        "# Model fitting and prediction"
      ]
    },
    {
      "cell_type": "code",
      "metadata": {
        "id": "wj2GPp8wChFW"
      },
      "source": [
        "X_train = df_train_resampled.drop(output_feature, axis=1)\n",
        "y_train = df_train_resampled[output_feature]\n",
        "# X_train = df_train.drop(output_feature, axis=1)\n",
        "# y_train = df_train[output_feature]\n",
        "\n",
        "X_test = df_test.drop(output_feature, axis=1)\n",
        "y_test = df_test[output_feature]\n",
        "\n",
        "scaler = MinMaxScaler()\n",
        "X_train = scaler.fit_transform(X_train)\n",
        "\n",
        "classifier = RandomForestClassifier()\n",
        "classifier.fit(X_train, y_train)\n",
        "\n",
        "X_test = scaler.transform(X_test)\n",
        "y_pred = classifier.predict(X_test)"
      ],
      "execution_count": null,
      "outputs": []
    },
    {
      "cell_type": "markdown",
      "metadata": {
        "id": "yNxgaMCAPP8e"
      },
      "source": [
        "# Prediction analysis and visualisations"
      ]
    },
    {
      "cell_type": "code",
      "metadata": {
        "colab": {
          "base_uri": "https://localhost:8080/"
        },
        "id": "VMfOSJXV9IEn",
        "outputId": "abd24769-4687-4aef-e028-2723355f7826"
      },
      "source": [
        "print(\"Confusion matrix\\n\", classification_report(y_test, y_pred))\n",
        "print(\"Area under curve score: \", roc_auc_score(y_test, y_pred))"
      ],
      "execution_count": null,
      "outputs": [
        {
          "output_type": "stream",
          "text": [
            "Confusion matrix\n",
            "               precision    recall  f1-score   support\n",
            "\n",
            "           0       0.88      0.86      0.87      9279\n",
            "           1       0.58      0.63      0.60      2932\n",
            "\n",
            "    accuracy                           0.80     12211\n",
            "   macro avg       0.73      0.74      0.74     12211\n",
            "weighted avg       0.81      0.80      0.80     12211\n",
            "\n",
            "Area under curve score:  0.7434576631325969\n"
          ],
          "name": "stdout"
        }
      ]
    },
    {
      "cell_type": "code",
      "metadata": {
        "id": "kvEKZ5TN9_3G"
      },
      "source": [
        "df_test_previlege = df_test.loc[df_test[protected_feature + ':' + privilege_class] == 1]\n",
        "df_test_unprevilege = df_test.loc[df_test[protected_feature + ':' + privilege_class] == 0]\n",
        "\n",
        "X_test_previlege = df_test_previlege.drop(output_feature, axis=1)\n",
        "y_test_previlege = df_test_previlege[output_feature]\n",
        "X_test_unprevilege = df_test_unprevilege.drop(output_feature, axis=1)\n",
        "y_test_unprevilege = df_test_unprevilege[output_feature]"
      ],
      "execution_count": null,
      "outputs": []
    },
    {
      "cell_type": "code",
      "metadata": {
        "colab": {
          "base_uri": "https://localhost:8080/"
        },
        "id": "D9NCGxGm_CjS",
        "outputId": "24f04e91-e04b-4df0-ab0b-664a4379bb27"
      },
      "source": [
        "X_test_previlege = scaler.transform(X_test_previlege)\n",
        "y_pred_previlege = classifier.predict(X_test_previlege)\n",
        "print(\"Confusion matrix\\n\", classification_report(y_test_previlege, y_pred_previlege))\n",
        "print(\"Area under curve score: \", roc_auc_score(y_test_previlege, y_pred_previlege))"
      ],
      "execution_count": null,
      "outputs": [
        {
          "output_type": "stream",
          "text": [
            "Confusion matrix\n",
            "               precision    recall  f1-score   support\n",
            "\n",
            "           0       0.84      0.81      0.83      5654\n",
            "           1       0.60      0.64      0.62      2483\n",
            "\n",
            "    accuracy                           0.76      8137\n",
            "   macro avg       0.72      0.73      0.72      8137\n",
            "weighted avg       0.77      0.76      0.76      8137\n",
            "\n",
            "Area under curve score:  0.7284178683174345\n"
          ],
          "name": "stdout"
        }
      ]
    },
    {
      "cell_type": "code",
      "metadata": {
        "colab": {
          "base_uri": "https://localhost:8080/"
        },
        "id": "w1XFRXzJ_rtI",
        "outputId": "063d8d22-5da6-4a76-fbc4-1588fe4a6e66"
      },
      "source": [
        "X_test_unprevilege = scaler.transform(X_test_unprevilege)\n",
        "y_pred_unprevilege = classifier.predict(X_test_unprevilege)\n",
        "print(\"Confusion matrix\\n\", classification_report(y_test_unprevilege, y_pred_unprevilege))\n",
        "print(\"Area under curve score: \", roc_auc_score(y_test_unprevilege, y_pred_unprevilege))"
      ],
      "execution_count": null,
      "outputs": [
        {
          "output_type": "stream",
          "text": [
            "Confusion matrix\n",
            "               precision    recall  f1-score   support\n",
            "\n",
            "           0       0.95      0.92      0.93      3625\n",
            "           1       0.47      0.57      0.51       449\n",
            "\n",
            "    accuracy                           0.88      4074\n",
            "   macro avg       0.71      0.75      0.72      4074\n",
            "weighted avg       0.89      0.88      0.89      4074\n",
            "\n",
            "Area under curve score:  0.7456398126103986\n"
          ],
          "name": "stdout"
        }
      ]
    }
  ]
}